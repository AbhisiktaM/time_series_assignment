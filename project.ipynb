{
 "cells": [
  {
   "cell_type": "markdown",
   "id": "79c38549",
   "metadata": {},
   "source": [
    "# Financial Timeseries Project\n",
    "\n",
    "by @AbhisiktaM"
   ]
  },
  {
   "cell_type": "markdown",
   "id": "0bd35481",
   "metadata": {},
   "source": [
    "## Installing Dependencies \n",
    "\n",
    "By : @AbhisiktaM "
   ]
  },
  {
   "cell_type": "code",
   "execution_count": null,
   "id": "eb690387",
   "metadata": {},
   "outputs": [
    {
     "name": "stdout",
     "output_type": "stream",
     "text": [
      "Requirement already satisfied: anyio==4.9.0 in ./.venv/lib/python3.12/site-packages (4.9.0)\n",
      "Requirement already satisfied: argon2-cffi==23.1.0 in ./.venv/lib/python3.12/site-packages (23.1.0)\n",
      "Requirement already satisfied: argon2-cffi-bindings==21.2.0 in ./.venv/lib/python3.12/site-packages (21.2.0)\n",
      "Requirement already satisfied: arrow==1.3.0 in ./.venv/lib/python3.12/site-packages (1.3.0)\n",
      "Requirement already satisfied: asttokens==3.0.0 in ./.venv/lib/python3.12/site-packages (3.0.0)\n",
      "Requirement already satisfied: async-lru==2.0.5 in ./.venv/lib/python3.12/site-packages (2.0.5)\n",
      "Requirement already satisfied: attrs==25.3.0 in ./.venv/lib/python3.12/site-packages (25.3.0)\n",
      "Requirement already satisfied: babel==2.17.0 in ./.venv/lib/python3.12/site-packages (2.17.0)\n",
      "Requirement already satisfied: beautifulsoup4==4.13.4 in ./.venv/lib/python3.12/site-packages (4.13.4)\n",
      "Requirement already satisfied: bleach==6.2.0 in ./.venv/lib/python3.12/site-packages (6.2.0)\n",
      "Requirement already satisfied: certifi==2025.1.31 in ./.venv/lib/python3.12/site-packages (2025.1.31)\n",
      "Requirement already satisfied: cffi==1.17.1 in ./.venv/lib/python3.12/site-packages (1.17.1)\n",
      "Requirement already satisfied: charset-normalizer==3.4.1 in ./.venv/lib/python3.12/site-packages (3.4.1)\n",
      "Requirement already satisfied: colorama==0.4.6 in ./.venv/lib/python3.12/site-packages (0.4.6)\n",
      "Requirement already satisfied: comm==0.2.2 in ./.venv/lib/python3.12/site-packages (0.2.2)\n",
      "Requirement already satisfied: debugpy==1.8.14 in ./.venv/lib/python3.12/site-packages (1.8.14)\n",
      "Requirement already satisfied: decorator==5.2.1 in ./.venv/lib/python3.12/site-packages (5.2.1)\n",
      "Requirement already satisfied: defusedxml==0.7.1 in ./.venv/lib/python3.12/site-packages (0.7.1)\n",
      "Requirement already satisfied: executing==2.2.0 in ./.venv/lib/python3.12/site-packages (2.2.0)\n",
      "Requirement already satisfied: fastjsonschema==2.21.1 in ./.venv/lib/python3.12/site-packages (2.21.1)\n",
      "Requirement already satisfied: fqdn==1.5.1 in ./.venv/lib/python3.12/site-packages (1.5.1)\n",
      "Requirement already satisfied: h11==0.14.0 in ./.venv/lib/python3.12/site-packages (0.14.0)\n",
      "Requirement already satisfied: httpcore==1.0.8 in ./.venv/lib/python3.12/site-packages (1.0.8)\n",
      "Requirement already satisfied: httpx==0.28.1 in ./.venv/lib/python3.12/site-packages (0.28.1)\n",
      "Requirement already satisfied: idna==3.10 in ./.venv/lib/python3.12/site-packages (3.10)\n",
      "Requirement already satisfied: ipykernel==6.29.5 in ./.venv/lib/python3.12/site-packages (6.29.5)\n",
      "Requirement already satisfied: ipython==9.1.0 in ./.venv/lib/python3.12/site-packages (9.1.0)\n",
      "Requirement already satisfied: ipython_pygments_lexers==1.1.1 in ./.venv/lib/python3.12/site-packages (1.1.1)\n",
      "Requirement already satisfied: isoduration==20.11.0 in ./.venv/lib/python3.12/site-packages (20.11.0)\n",
      "Requirement already satisfied: jedi==0.19.2 in ./.venv/lib/python3.12/site-packages (0.19.2)\n",
      "Requirement already satisfied: Jinja2==3.1.6 in ./.venv/lib/python3.12/site-packages (3.1.6)\n",
      "Requirement already satisfied: json5==0.12.0 in ./.venv/lib/python3.12/site-packages (0.12.0)\n",
      "Requirement already satisfied: jsonpointer==3.0.0 in ./.venv/lib/python3.12/site-packages (3.0.0)\n",
      "Requirement already satisfied: jsonschema==4.23.0 in ./.venv/lib/python3.12/site-packages (4.23.0)\n",
      "Requirement already satisfied: jsonschema-specifications==2024.10.1 in ./.venv/lib/python3.12/site-packages (2024.10.1)\n",
      "Requirement already satisfied: jupyter-events==0.12.0 in ./.venv/lib/python3.12/site-packages (0.12.0)\n",
      "Requirement already satisfied: jupyter-lsp==2.2.5 in ./.venv/lib/python3.12/site-packages (2.2.5)\n",
      "Requirement already satisfied: jupyter_client==8.6.3 in ./.venv/lib/python3.12/site-packages (8.6.3)\n",
      "Requirement already satisfied: jupyter_core==5.7.2 in ./.venv/lib/python3.12/site-packages (5.7.2)\n",
      "Requirement already satisfied: jupyter_server==2.15.0 in ./.venv/lib/python3.12/site-packages (2.15.0)\n",
      "Requirement already satisfied: jupyter_server_terminals==0.5.3 in ./.venv/lib/python3.12/site-packages (0.5.3)\n",
      "Requirement already satisfied: jupyterlab==4.4.0 in ./.venv/lib/python3.12/site-packages (4.4.0)\n",
      "Requirement already satisfied: jupyterlab_pygments==0.3.0 in ./.venv/lib/python3.12/site-packages (0.3.0)\n",
      "Requirement already satisfied: jupyterlab_server==2.27.3 in ./.venv/lib/python3.12/site-packages (2.27.3)\n",
      "Requirement already satisfied: MarkupSafe==3.0.2 in ./.venv/lib/python3.12/site-packages (3.0.2)\n",
      "Requirement already satisfied: matplotlib-inline==0.1.7 in ./.venv/lib/python3.12/site-packages (0.1.7)\n",
      "Requirement already satisfied: mistune==3.1.3 in ./.venv/lib/python3.12/site-packages (3.1.3)\n",
      "Requirement already satisfied: nbclient==0.10.2 in ./.venv/lib/python3.12/site-packages (0.10.2)\n",
      "Requirement already satisfied: nbconvert==7.16.6 in ./.venv/lib/python3.12/site-packages (7.16.6)\n",
      "Requirement already satisfied: nbformat==5.10.4 in ./.venv/lib/python3.12/site-packages (5.10.4)\n",
      "Requirement already satisfied: nest-asyncio==1.6.0 in ./.venv/lib/python3.12/site-packages (1.6.0)\n",
      "Requirement already satisfied: notebook_shim==0.2.4 in ./.venv/lib/python3.12/site-packages (0.2.4)\n",
      "Requirement already satisfied: overrides==7.7.0 in ./.venv/lib/python3.12/site-packages (7.7.0)\n",
      "Requirement already satisfied: packaging==25.0 in ./.venv/lib/python3.12/site-packages (25.0)\n",
      "Requirement already satisfied: pandocfilters==1.5.1 in ./.venv/lib/python3.12/site-packages (1.5.1)\n",
      "Requirement already satisfied: parso==0.8.4 in ./.venv/lib/python3.12/site-packages (0.8.4)\n",
      "Requirement already satisfied: platformdirs==4.3.7 in ./.venv/lib/python3.12/site-packages (4.3.7)\n",
      "Requirement already satisfied: prometheus_client==0.21.1 in ./.venv/lib/python3.12/site-packages (0.21.1)\n",
      "Requirement already satisfied: prompt_toolkit==3.0.51 in ./.venv/lib/python3.12/site-packages (3.0.51)\n",
      "Requirement already satisfied: psutil==7.0.0 in ./.venv/lib/python3.12/site-packages (7.0.0)\n",
      "Requirement already satisfied: pure_eval==0.2.3 in ./.venv/lib/python3.12/site-packages (0.2.3)\n",
      "Requirement already satisfied: pycparser==2.22 in ./.venv/lib/python3.12/site-packages (2.22)\n",
      "Requirement already satisfied: Pygments==2.19.1 in ./.venv/lib/python3.12/site-packages (2.19.1)\n",
      "Requirement already satisfied: python-dateutil==2.9.0.post0 in ./.venv/lib/python3.12/site-packages (2.9.0.post0)\n",
      "Requirement already satisfied: python-json-logger==3.3.0 in ./.venv/lib/python3.12/site-packages (3.3.0)\n",
      "Requirement already satisfied: PyYAML==6.0.2 in ./.venv/lib/python3.12/site-packages (6.0.2)\n",
      "Requirement already satisfied: pyzmq==26.4.0 in ./.venv/lib/python3.12/site-packages (26.4.0)\n",
      "Requirement already satisfied: referencing==0.36.2 in ./.venv/lib/python3.12/site-packages (0.36.2)\n",
      "Requirement already satisfied: requests==2.32.3 in ./.venv/lib/python3.12/site-packages (2.32.3)\n",
      "Requirement already satisfied: rfc3339-validator==0.1.4 in ./.venv/lib/python3.12/site-packages (0.1.4)\n",
      "Requirement already satisfied: rfc3986-validator==0.1.1 in ./.venv/lib/python3.12/site-packages (0.1.1)\n",
      "Requirement already satisfied: rpds-py==0.24.0 in ./.venv/lib/python3.12/site-packages (0.24.0)\n",
      "Requirement already satisfied: Send2Trash==1.8.3 in ./.venv/lib/python3.12/site-packages (1.8.3)\n",
      "Requirement already satisfied: six==1.17.0 in ./.venv/lib/python3.12/site-packages (1.17.0)\n",
      "Requirement already satisfied: sniffio==1.3.1 in ./.venv/lib/python3.12/site-packages (1.3.1)\n",
      "Requirement already satisfied: soupsieve==2.6 in ./.venv/lib/python3.12/site-packages (2.6)\n",
      "Requirement already satisfied: stack-data==0.6.3 in ./.venv/lib/python3.12/site-packages (0.6.3)\n",
      "Requirement already satisfied: terminado==0.18.1 in ./.venv/lib/python3.12/site-packages (0.18.1)\n",
      "Requirement already satisfied: tinycss2==1.4.0 in ./.venv/lib/python3.12/site-packages (1.4.0)\n",
      "Requirement already satisfied: tornado==6.4.2 in ./.venv/lib/python3.12/site-packages (6.4.2)\n",
      "Requirement already satisfied: traitlets==5.14.3 in ./.venv/lib/python3.12/site-packages (5.14.3)\n",
      "Requirement already satisfied: types-python-dateutil==2.9.0.20241206 in ./.venv/lib/python3.12/site-packages (2.9.0.20241206)\n",
      "Requirement already satisfied: typing_extensions==4.13.2 in ./.venv/lib/python3.12/site-packages (4.13.2)\n",
      "Requirement already satisfied: uri-template==1.3.0 in ./.venv/lib/python3.12/site-packages (1.3.0)\n",
      "Requirement already satisfied: urllib3==2.4.0 in ./.venv/lib/python3.12/site-packages (2.4.0)\n",
      "Requirement already satisfied: wcwidth==0.2.13 in ./.venv/lib/python3.12/site-packages (0.2.13)\n",
      "Requirement already satisfied: webcolors==24.11.1 in ./.venv/lib/python3.12/site-packages (24.11.1)\n",
      "Requirement already satisfied: webencodings==0.5.1 in ./.venv/lib/python3.12/site-packages (0.5.1)\n",
      "Requirement already satisfied: websocket-client==1.8.0 in ./.venv/lib/python3.12/site-packages (1.8.0)\n",
      "Requirement already satisfied: pexpect>4.3 in ./.venv/lib/python3.12/site-packages (from ipython==9.1.0) (4.9.0)\n",
      "Requirement already satisfied: setuptools>=41.1.0 in ./.venv/lib/python3.12/site-packages (from jupyterlab==4.4.0) (80.2.0)\n",
      "Requirement already satisfied: ptyprocess in ./.venv/lib/python3.12/site-packages (from terminado==0.18.1) (0.7.0)\n"
     ]
    }
   ],
   "source": [
    "!pythom -m pip install anyio==4.9.0 argon2-cffi==23.1.0 argon2-cffi-bindings==21.2.0 arrow==1.3.0 asttokens==3.0.0 async-lru==2.0.5 attrs==25.3.0 babel==2.17.0 beautifulsoup4==4.13.4 bleach==6.2.0 certifi==2025.1.31 cffi==1.17.1 charset-normalizer==3.4.1 colorama==0.4.6 comm==0.2.2 debugpy==1.8.14 decorator==5.2.1 defusedxml==0.7.1 executing==2.2.0 fastjsonschema==2.21.1 fqdn==1.5.1 h11==0.14.0 httpcore==1.0.8 httpx==0.28.1 idna==3.10 ipykernel==6.29.5 ipython==9.1.0 ipython_pygments_lexers==1.1.1 isoduration==20.11.0 jedi==0.19.2 Jinja2==3.1.6 json5==0.12.0 jsonpointer==3.0.0 jsonschema==4.23.0 jsonschema-specifications==2024.10.1 jupyter-events==0.12.0 jupyter-lsp==2.2.5 jupyter_client==8.6.3 jupyter_core==5.7.2 jupyter_server==2.15.0 jupyter_server_terminals==0.5.3 jupyterlab==4.4.0 jupyterlab_pygments==0.3.0 jupyterlab_server==2.27.3 MarkupSafe==3.0.2 matplotlib-inline==0.1.7 mistune==3.1.3 nbclient==0.10.2 nbconvert==7.16.6 nbformat==5.10.4 nest-asyncio==1.6.0 notebook_shim==0.2.4 overrides==7.7.0 packaging==25.0 pandocfilters==1.5.1 parso==0.8.4 platformdirs==4.3.7 prometheus_client==0.21.1 prompt_toolkit==3.0.51 psutil==7.0.0 pure_eval==0.2.3 pycparser==2.22 Pygments==2.19.1 python-dateutil==2.9.0.post0 python-json-logger==3.3.0 PyYAML==6.0.2 pyzmq==26.4.0 referencing==0.36.2 requests==2.32.3 rfc3339-validator==0.1.4 rfc3986-validator==0.1.1 rpds-py==0.24.0 Send2Trash==1.8.3 six==1.17.0 sniffio==1.3.1 soupsieve==2.6 stack-data==0.6.3 terminado==0.18.1 tinycss2==1.4.0 tornado==6.4.2 traitlets==5.14.3 types-python-dateutil==2.9.0.20241206 typing_extensions==4.13.2 uri-template==1.3.0 urllib3==2.4.0 wcwidth==0.2.13 webcolors==24.11.1 webencodings==0.5.1 websocket-client==1.8.0"
   ]
  },
  {
   "cell_type": "markdown",
   "id": "41764df5",
   "metadata": {},
   "source": [
    "## Importing Python Libraries \n",
    "\n",
    "by @AbhisiktaM"
   ]
  },
  {
   "cell_type": "code",
   "execution_count": 2,
   "id": "40e54c64",
   "metadata": {},
   "outputs": [
    {
     "name": "stderr",
     "output_type": "stream",
     "text": [
      "/workspaces/time_series_assignment/.venv/lib/python3.12/site-packages/tqdm/auto.py:21: TqdmWarning: IProgress not found. Please update jupyter and ipywidgets. See https://ipywidgets.readthedocs.io/en/stable/user_install.html\n",
      "  from .autonotebook import tqdm as notebook_tqdm\n",
      "Importing plotly failed. Interactive plots will not work.\n"
     ]
    }
   ],
   "source": [
    "import pandas as pd\n",
    "from prophet import Prophet\n",
    "from sklearn.metrics import mean_squared_error, mean_absolute_error\n",
    "import matplotlib.pyplot as plt\n",
    "from statsmodels.tsa.arima.model import ARIMA\n"
   ]
  },
  {
   "cell_type": "code",
   "execution_count": null,
   "id": "20bcf48c",
   "metadata": {},
   "outputs": [],
   "source": []
  },
  {
   "cell_type": "code",
   "execution_count": null,
   "id": "c2598631",
   "metadata": {},
   "outputs": [],
   "source": []
  }
 ],
 "metadata": {
  "kernelspec": {
   "display_name": ".venv",
   "language": "python",
   "name": "python3"
  },
  "language_info": {
   "codemirror_mode": {
    "name": "ipython",
    "version": 3
   },
   "file_extension": ".py",
   "mimetype": "text/x-python",
   "name": "python",
   "nbconvert_exporter": "python",
   "pygments_lexer": "ipython3",
   "version": "3.12.1"
  }
 },
 "nbformat": 4,
 "nbformat_minor": 5
}
